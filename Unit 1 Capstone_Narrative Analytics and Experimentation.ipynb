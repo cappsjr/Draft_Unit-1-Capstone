{
 "cells": [
  {
   "cell_type": "markdown",
   "metadata": {},
   "source": [
    "# RFC: Human Resources Analytics: Why are our best and most experienced employees leaving prematurely?"
   ]
  },
  {
   "cell_type": "code",
   "execution_count": 32,
   "metadata": {
    "collapsed": true,
    "deletable": true,
    "editable": true
   },
   "outputs": [],
   "source": [
    "%matplotlib inline\n",
    "import pandas as pd\n",
    "import numpy as np\n",
    "import seaborn as sns\n",
    "from matplotlib import pyplot as plt\n",
    "from scipy import stats\n",
    "import statistics"
   ]
  },
  {
   "cell_type": "code",
   "execution_count": 143,
   "metadata": {
    "collapsed": false,
    "deletable": true,
    "editable": true
   },
   "outputs": [
    {
     "data": {
      "text/html": [
       "<div>\n",
       "<table border=\"1\" class=\"dataframe\">\n",
       "  <thead>\n",
       "    <tr style=\"text-align: right;\">\n",
       "      <th></th>\n",
       "      <th>Satisfaction Level</th>\n",
       "      <th>Last Evaluation Score</th>\n",
       "      <th>Number of Projects Completed</th>\n",
       "      <th>Average Monthly Hours</th>\n",
       "      <th>Years with Company</th>\n",
       "      <th>Work Accident</th>\n",
       "      <th>Left</th>\n",
       "      <th>Promoted in Last 5 Years</th>\n",
       "      <th>Department</th>\n",
       "      <th>Salary</th>\n",
       "    </tr>\n",
       "  </thead>\n",
       "  <tbody>\n",
       "    <tr>\n",
       "      <th>0</th>\n",
       "      <td>0.38</td>\n",
       "      <td>0.53</td>\n",
       "      <td>2</td>\n",
       "      <td>157</td>\n",
       "      <td>3</td>\n",
       "      <td>0</td>\n",
       "      <td>1</td>\n",
       "      <td>0</td>\n",
       "      <td>sales</td>\n",
       "      <td>low</td>\n",
       "    </tr>\n",
       "    <tr>\n",
       "      <th>1</th>\n",
       "      <td>0.80</td>\n",
       "      <td>0.86</td>\n",
       "      <td>5</td>\n",
       "      <td>262</td>\n",
       "      <td>6</td>\n",
       "      <td>0</td>\n",
       "      <td>1</td>\n",
       "      <td>0</td>\n",
       "      <td>sales</td>\n",
       "      <td>medium</td>\n",
       "    </tr>\n",
       "    <tr>\n",
       "      <th>2</th>\n",
       "      <td>0.11</td>\n",
       "      <td>0.88</td>\n",
       "      <td>7</td>\n",
       "      <td>272</td>\n",
       "      <td>4</td>\n",
       "      <td>0</td>\n",
       "      <td>1</td>\n",
       "      <td>0</td>\n",
       "      <td>sales</td>\n",
       "      <td>medium</td>\n",
       "    </tr>\n",
       "    <tr>\n",
       "      <th>3</th>\n",
       "      <td>0.72</td>\n",
       "      <td>0.87</td>\n",
       "      <td>5</td>\n",
       "      <td>223</td>\n",
       "      <td>5</td>\n",
       "      <td>0</td>\n",
       "      <td>1</td>\n",
       "      <td>0</td>\n",
       "      <td>sales</td>\n",
       "      <td>low</td>\n",
       "    </tr>\n",
       "    <tr>\n",
       "      <th>4</th>\n",
       "      <td>0.37</td>\n",
       "      <td>0.52</td>\n",
       "      <td>2</td>\n",
       "      <td>159</td>\n",
       "      <td>3</td>\n",
       "      <td>0</td>\n",
       "      <td>1</td>\n",
       "      <td>0</td>\n",
       "      <td>sales</td>\n",
       "      <td>low</td>\n",
       "    </tr>\n",
       "    <tr>\n",
       "      <th>5</th>\n",
       "      <td>0.41</td>\n",
       "      <td>0.50</td>\n",
       "      <td>2</td>\n",
       "      <td>153</td>\n",
       "      <td>3</td>\n",
       "      <td>0</td>\n",
       "      <td>1</td>\n",
       "      <td>0</td>\n",
       "      <td>sales</td>\n",
       "      <td>low</td>\n",
       "    </tr>\n",
       "    <tr>\n",
       "      <th>6</th>\n",
       "      <td>0.10</td>\n",
       "      <td>0.77</td>\n",
       "      <td>6</td>\n",
       "      <td>247</td>\n",
       "      <td>4</td>\n",
       "      <td>0</td>\n",
       "      <td>1</td>\n",
       "      <td>0</td>\n",
       "      <td>sales</td>\n",
       "      <td>low</td>\n",
       "    </tr>\n",
       "    <tr>\n",
       "      <th>7</th>\n",
       "      <td>0.92</td>\n",
       "      <td>0.85</td>\n",
       "      <td>5</td>\n",
       "      <td>259</td>\n",
       "      <td>5</td>\n",
       "      <td>0</td>\n",
       "      <td>1</td>\n",
       "      <td>0</td>\n",
       "      <td>sales</td>\n",
       "      <td>low</td>\n",
       "    </tr>\n",
       "    <tr>\n",
       "      <th>8</th>\n",
       "      <td>0.89</td>\n",
       "      <td>1.00</td>\n",
       "      <td>5</td>\n",
       "      <td>224</td>\n",
       "      <td>5</td>\n",
       "      <td>0</td>\n",
       "      <td>1</td>\n",
       "      <td>0</td>\n",
       "      <td>sales</td>\n",
       "      <td>low</td>\n",
       "    </tr>\n",
       "    <tr>\n",
       "      <th>9</th>\n",
       "      <td>0.42</td>\n",
       "      <td>0.53</td>\n",
       "      <td>2</td>\n",
       "      <td>142</td>\n",
       "      <td>3</td>\n",
       "      <td>0</td>\n",
       "      <td>1</td>\n",
       "      <td>0</td>\n",
       "      <td>sales</td>\n",
       "      <td>low</td>\n",
       "    </tr>\n",
       "    <tr>\n",
       "      <th>10</th>\n",
       "      <td>0.45</td>\n",
       "      <td>0.54</td>\n",
       "      <td>2</td>\n",
       "      <td>135</td>\n",
       "      <td>3</td>\n",
       "      <td>0</td>\n",
       "      <td>1</td>\n",
       "      <td>0</td>\n",
       "      <td>sales</td>\n",
       "      <td>low</td>\n",
       "    </tr>\n",
       "    <tr>\n",
       "      <th>11</th>\n",
       "      <td>0.11</td>\n",
       "      <td>0.81</td>\n",
       "      <td>6</td>\n",
       "      <td>305</td>\n",
       "      <td>4</td>\n",
       "      <td>0</td>\n",
       "      <td>1</td>\n",
       "      <td>0</td>\n",
       "      <td>sales</td>\n",
       "      <td>low</td>\n",
       "    </tr>\n",
       "    <tr>\n",
       "      <th>12</th>\n",
       "      <td>0.84</td>\n",
       "      <td>0.92</td>\n",
       "      <td>4</td>\n",
       "      <td>234</td>\n",
       "      <td>5</td>\n",
       "      <td>0</td>\n",
       "      <td>1</td>\n",
       "      <td>0</td>\n",
       "      <td>sales</td>\n",
       "      <td>low</td>\n",
       "    </tr>\n",
       "    <tr>\n",
       "      <th>13</th>\n",
       "      <td>0.41</td>\n",
       "      <td>0.55</td>\n",
       "      <td>2</td>\n",
       "      <td>148</td>\n",
       "      <td>3</td>\n",
       "      <td>0</td>\n",
       "      <td>1</td>\n",
       "      <td>0</td>\n",
       "      <td>sales</td>\n",
       "      <td>low</td>\n",
       "    </tr>\n",
       "    <tr>\n",
       "      <th>14</th>\n",
       "      <td>0.36</td>\n",
       "      <td>0.56</td>\n",
       "      <td>2</td>\n",
       "      <td>137</td>\n",
       "      <td>3</td>\n",
       "      <td>0</td>\n",
       "      <td>1</td>\n",
       "      <td>0</td>\n",
       "      <td>sales</td>\n",
       "      <td>low</td>\n",
       "    </tr>\n",
       "    <tr>\n",
       "      <th>15</th>\n",
       "      <td>0.38</td>\n",
       "      <td>0.54</td>\n",
       "      <td>2</td>\n",
       "      <td>143</td>\n",
       "      <td>3</td>\n",
       "      <td>0</td>\n",
       "      <td>1</td>\n",
       "      <td>0</td>\n",
       "      <td>sales</td>\n",
       "      <td>low</td>\n",
       "    </tr>\n",
       "    <tr>\n",
       "      <th>16</th>\n",
       "      <td>0.45</td>\n",
       "      <td>0.47</td>\n",
       "      <td>2</td>\n",
       "      <td>160</td>\n",
       "      <td>3</td>\n",
       "      <td>0</td>\n",
       "      <td>1</td>\n",
       "      <td>0</td>\n",
       "      <td>sales</td>\n",
       "      <td>low</td>\n",
       "    </tr>\n",
       "    <tr>\n",
       "      <th>17</th>\n",
       "      <td>0.78</td>\n",
       "      <td>0.99</td>\n",
       "      <td>4</td>\n",
       "      <td>255</td>\n",
       "      <td>6</td>\n",
       "      <td>0</td>\n",
       "      <td>1</td>\n",
       "      <td>0</td>\n",
       "      <td>sales</td>\n",
       "      <td>low</td>\n",
       "    </tr>\n",
       "    <tr>\n",
       "      <th>18</th>\n",
       "      <td>0.45</td>\n",
       "      <td>0.51</td>\n",
       "      <td>2</td>\n",
       "      <td>160</td>\n",
       "      <td>3</td>\n",
       "      <td>1</td>\n",
       "      <td>1</td>\n",
       "      <td>1</td>\n",
       "      <td>sales</td>\n",
       "      <td>low</td>\n",
       "    </tr>\n",
       "    <tr>\n",
       "      <th>19</th>\n",
       "      <td>0.76</td>\n",
       "      <td>0.89</td>\n",
       "      <td>5</td>\n",
       "      <td>262</td>\n",
       "      <td>5</td>\n",
       "      <td>0</td>\n",
       "      <td>1</td>\n",
       "      <td>0</td>\n",
       "      <td>sales</td>\n",
       "      <td>low</td>\n",
       "    </tr>\n",
       "    <tr>\n",
       "      <th>20</th>\n",
       "      <td>0.11</td>\n",
       "      <td>0.83</td>\n",
       "      <td>6</td>\n",
       "      <td>282</td>\n",
       "      <td>4</td>\n",
       "      <td>0</td>\n",
       "      <td>1</td>\n",
       "      <td>0</td>\n",
       "      <td>sales</td>\n",
       "      <td>low</td>\n",
       "    </tr>\n",
       "    <tr>\n",
       "      <th>21</th>\n",
       "      <td>0.38</td>\n",
       "      <td>0.55</td>\n",
       "      <td>2</td>\n",
       "      <td>147</td>\n",
       "      <td>3</td>\n",
       "      <td>0</td>\n",
       "      <td>1</td>\n",
       "      <td>0</td>\n",
       "      <td>sales</td>\n",
       "      <td>low</td>\n",
       "    </tr>\n",
       "    <tr>\n",
       "      <th>22</th>\n",
       "      <td>0.09</td>\n",
       "      <td>0.95</td>\n",
       "      <td>6</td>\n",
       "      <td>304</td>\n",
       "      <td>4</td>\n",
       "      <td>0</td>\n",
       "      <td>1</td>\n",
       "      <td>0</td>\n",
       "      <td>sales</td>\n",
       "      <td>low</td>\n",
       "    </tr>\n",
       "    <tr>\n",
       "      <th>23</th>\n",
       "      <td>0.46</td>\n",
       "      <td>0.57</td>\n",
       "      <td>2</td>\n",
       "      <td>139</td>\n",
       "      <td>3</td>\n",
       "      <td>0</td>\n",
       "      <td>1</td>\n",
       "      <td>0</td>\n",
       "      <td>sales</td>\n",
       "      <td>low</td>\n",
       "    </tr>\n",
       "    <tr>\n",
       "      <th>24</th>\n",
       "      <td>0.40</td>\n",
       "      <td>0.53</td>\n",
       "      <td>2</td>\n",
       "      <td>158</td>\n",
       "      <td>3</td>\n",
       "      <td>0</td>\n",
       "      <td>1</td>\n",
       "      <td>0</td>\n",
       "      <td>sales</td>\n",
       "      <td>low</td>\n",
       "    </tr>\n",
       "    <tr>\n",
       "      <th>25</th>\n",
       "      <td>0.89</td>\n",
       "      <td>0.92</td>\n",
       "      <td>5</td>\n",
       "      <td>242</td>\n",
       "      <td>5</td>\n",
       "      <td>0</td>\n",
       "      <td>1</td>\n",
       "      <td>0</td>\n",
       "      <td>sales</td>\n",
       "      <td>low</td>\n",
       "    </tr>\n",
       "    <tr>\n",
       "      <th>26</th>\n",
       "      <td>0.82</td>\n",
       "      <td>0.87</td>\n",
       "      <td>4</td>\n",
       "      <td>239</td>\n",
       "      <td>5</td>\n",
       "      <td>0</td>\n",
       "      <td>1</td>\n",
       "      <td>0</td>\n",
       "      <td>sales</td>\n",
       "      <td>low</td>\n",
       "    </tr>\n",
       "    <tr>\n",
       "      <th>27</th>\n",
       "      <td>0.40</td>\n",
       "      <td>0.49</td>\n",
       "      <td>2</td>\n",
       "      <td>135</td>\n",
       "      <td>3</td>\n",
       "      <td>0</td>\n",
       "      <td>1</td>\n",
       "      <td>0</td>\n",
       "      <td>sales</td>\n",
       "      <td>low</td>\n",
       "    </tr>\n",
       "    <tr>\n",
       "      <th>28</th>\n",
       "      <td>0.41</td>\n",
       "      <td>0.46</td>\n",
       "      <td>2</td>\n",
       "      <td>128</td>\n",
       "      <td>3</td>\n",
       "      <td>0</td>\n",
       "      <td>1</td>\n",
       "      <td>0</td>\n",
       "      <td>accounting</td>\n",
       "      <td>low</td>\n",
       "    </tr>\n",
       "    <tr>\n",
       "      <th>29</th>\n",
       "      <td>0.38</td>\n",
       "      <td>0.50</td>\n",
       "      <td>2</td>\n",
       "      <td>132</td>\n",
       "      <td>3</td>\n",
       "      <td>0</td>\n",
       "      <td>1</td>\n",
       "      <td>0</td>\n",
       "      <td>accounting</td>\n",
       "      <td>low</td>\n",
       "    </tr>\n",
       "    <tr>\n",
       "      <th>...</th>\n",
       "      <td>...</td>\n",
       "      <td>...</td>\n",
       "      <td>...</td>\n",
       "      <td>...</td>\n",
       "      <td>...</td>\n",
       "      <td>...</td>\n",
       "      <td>...</td>\n",
       "      <td>...</td>\n",
       "      <td>...</td>\n",
       "      <td>...</td>\n",
       "    </tr>\n",
       "    <tr>\n",
       "      <th>14969</th>\n",
       "      <td>0.43</td>\n",
       "      <td>0.46</td>\n",
       "      <td>2</td>\n",
       "      <td>157</td>\n",
       "      <td>3</td>\n",
       "      <td>0</td>\n",
       "      <td>1</td>\n",
       "      <td>0</td>\n",
       "      <td>sales</td>\n",
       "      <td>medium</td>\n",
       "    </tr>\n",
       "    <tr>\n",
       "      <th>14970</th>\n",
       "      <td>0.78</td>\n",
       "      <td>0.93</td>\n",
       "      <td>4</td>\n",
       "      <td>225</td>\n",
       "      <td>5</td>\n",
       "      <td>0</td>\n",
       "      <td>1</td>\n",
       "      <td>0</td>\n",
       "      <td>sales</td>\n",
       "      <td>medium</td>\n",
       "    </tr>\n",
       "    <tr>\n",
       "      <th>14971</th>\n",
       "      <td>0.39</td>\n",
       "      <td>0.45</td>\n",
       "      <td>2</td>\n",
       "      <td>140</td>\n",
       "      <td>3</td>\n",
       "      <td>0</td>\n",
       "      <td>1</td>\n",
       "      <td>0</td>\n",
       "      <td>sales</td>\n",
       "      <td>medium</td>\n",
       "    </tr>\n",
       "    <tr>\n",
       "      <th>14972</th>\n",
       "      <td>0.11</td>\n",
       "      <td>0.97</td>\n",
       "      <td>6</td>\n",
       "      <td>310</td>\n",
       "      <td>4</td>\n",
       "      <td>0</td>\n",
       "      <td>1</td>\n",
       "      <td>0</td>\n",
       "      <td>accounting</td>\n",
       "      <td>medium</td>\n",
       "    </tr>\n",
       "    <tr>\n",
       "      <th>14973</th>\n",
       "      <td>0.36</td>\n",
       "      <td>0.52</td>\n",
       "      <td>2</td>\n",
       "      <td>143</td>\n",
       "      <td>3</td>\n",
       "      <td>0</td>\n",
       "      <td>1</td>\n",
       "      <td>0</td>\n",
       "      <td>accounting</td>\n",
       "      <td>medium</td>\n",
       "    </tr>\n",
       "    <tr>\n",
       "      <th>14974</th>\n",
       "      <td>0.36</td>\n",
       "      <td>0.54</td>\n",
       "      <td>2</td>\n",
       "      <td>153</td>\n",
       "      <td>3</td>\n",
       "      <td>0</td>\n",
       "      <td>1</td>\n",
       "      <td>0</td>\n",
       "      <td>accounting</td>\n",
       "      <td>medium</td>\n",
       "    </tr>\n",
       "    <tr>\n",
       "      <th>14975</th>\n",
       "      <td>0.10</td>\n",
       "      <td>0.79</td>\n",
       "      <td>7</td>\n",
       "      <td>310</td>\n",
       "      <td>4</td>\n",
       "      <td>0</td>\n",
       "      <td>1</td>\n",
       "      <td>0</td>\n",
       "      <td>hr</td>\n",
       "      <td>medium</td>\n",
       "    </tr>\n",
       "    <tr>\n",
       "      <th>14976</th>\n",
       "      <td>0.40</td>\n",
       "      <td>0.47</td>\n",
       "      <td>2</td>\n",
       "      <td>136</td>\n",
       "      <td>3</td>\n",
       "      <td>0</td>\n",
       "      <td>1</td>\n",
       "      <td>0</td>\n",
       "      <td>hr</td>\n",
       "      <td>medium</td>\n",
       "    </tr>\n",
       "    <tr>\n",
       "      <th>14977</th>\n",
       "      <td>0.81</td>\n",
       "      <td>0.85</td>\n",
       "      <td>4</td>\n",
       "      <td>251</td>\n",
       "      <td>6</td>\n",
       "      <td>0</td>\n",
       "      <td>1</td>\n",
       "      <td>0</td>\n",
       "      <td>hr</td>\n",
       "      <td>medium</td>\n",
       "    </tr>\n",
       "    <tr>\n",
       "      <th>14978</th>\n",
       "      <td>0.40</td>\n",
       "      <td>0.47</td>\n",
       "      <td>2</td>\n",
       "      <td>144</td>\n",
       "      <td>3</td>\n",
       "      <td>0</td>\n",
       "      <td>1</td>\n",
       "      <td>0</td>\n",
       "      <td>hr</td>\n",
       "      <td>medium</td>\n",
       "    </tr>\n",
       "    <tr>\n",
       "      <th>14979</th>\n",
       "      <td>0.09</td>\n",
       "      <td>0.93</td>\n",
       "      <td>6</td>\n",
       "      <td>296</td>\n",
       "      <td>4</td>\n",
       "      <td>0</td>\n",
       "      <td>1</td>\n",
       "      <td>0</td>\n",
       "      <td>technical</td>\n",
       "      <td>medium</td>\n",
       "    </tr>\n",
       "    <tr>\n",
       "      <th>14980</th>\n",
       "      <td>0.76</td>\n",
       "      <td>0.89</td>\n",
       "      <td>5</td>\n",
       "      <td>238</td>\n",
       "      <td>5</td>\n",
       "      <td>0</td>\n",
       "      <td>1</td>\n",
       "      <td>0</td>\n",
       "      <td>technical</td>\n",
       "      <td>high</td>\n",
       "    </tr>\n",
       "    <tr>\n",
       "      <th>14981</th>\n",
       "      <td>0.73</td>\n",
       "      <td>0.93</td>\n",
       "      <td>5</td>\n",
       "      <td>162</td>\n",
       "      <td>4</td>\n",
       "      <td>0</td>\n",
       "      <td>1</td>\n",
       "      <td>0</td>\n",
       "      <td>technical</td>\n",
       "      <td>low</td>\n",
       "    </tr>\n",
       "    <tr>\n",
       "      <th>14982</th>\n",
       "      <td>0.38</td>\n",
       "      <td>0.49</td>\n",
       "      <td>2</td>\n",
       "      <td>137</td>\n",
       "      <td>3</td>\n",
       "      <td>0</td>\n",
       "      <td>1</td>\n",
       "      <td>0</td>\n",
       "      <td>technical</td>\n",
       "      <td>medium</td>\n",
       "    </tr>\n",
       "    <tr>\n",
       "      <th>14983</th>\n",
       "      <td>0.72</td>\n",
       "      <td>0.84</td>\n",
       "      <td>5</td>\n",
       "      <td>257</td>\n",
       "      <td>5</td>\n",
       "      <td>0</td>\n",
       "      <td>1</td>\n",
       "      <td>0</td>\n",
       "      <td>technical</td>\n",
       "      <td>medium</td>\n",
       "    </tr>\n",
       "    <tr>\n",
       "      <th>14984</th>\n",
       "      <td>0.40</td>\n",
       "      <td>0.56</td>\n",
       "      <td>2</td>\n",
       "      <td>148</td>\n",
       "      <td>3</td>\n",
       "      <td>0</td>\n",
       "      <td>1</td>\n",
       "      <td>0</td>\n",
       "      <td>technical</td>\n",
       "      <td>medium</td>\n",
       "    </tr>\n",
       "    <tr>\n",
       "      <th>14985</th>\n",
       "      <td>0.91</td>\n",
       "      <td>0.99</td>\n",
       "      <td>5</td>\n",
       "      <td>254</td>\n",
       "      <td>5</td>\n",
       "      <td>0</td>\n",
       "      <td>1</td>\n",
       "      <td>0</td>\n",
       "      <td>technical</td>\n",
       "      <td>medium</td>\n",
       "    </tr>\n",
       "    <tr>\n",
       "      <th>14986</th>\n",
       "      <td>0.85</td>\n",
       "      <td>0.85</td>\n",
       "      <td>4</td>\n",
       "      <td>247</td>\n",
       "      <td>6</td>\n",
       "      <td>0</td>\n",
       "      <td>1</td>\n",
       "      <td>0</td>\n",
       "      <td>technical</td>\n",
       "      <td>low</td>\n",
       "    </tr>\n",
       "    <tr>\n",
       "      <th>14987</th>\n",
       "      <td>0.90</td>\n",
       "      <td>0.70</td>\n",
       "      <td>5</td>\n",
       "      <td>206</td>\n",
       "      <td>4</td>\n",
       "      <td>0</td>\n",
       "      <td>1</td>\n",
       "      <td>0</td>\n",
       "      <td>technical</td>\n",
       "      <td>low</td>\n",
       "    </tr>\n",
       "    <tr>\n",
       "      <th>14988</th>\n",
       "      <td>0.46</td>\n",
       "      <td>0.55</td>\n",
       "      <td>2</td>\n",
       "      <td>145</td>\n",
       "      <td>3</td>\n",
       "      <td>0</td>\n",
       "      <td>1</td>\n",
       "      <td>0</td>\n",
       "      <td>technical</td>\n",
       "      <td>low</td>\n",
       "    </tr>\n",
       "    <tr>\n",
       "      <th>14989</th>\n",
       "      <td>0.43</td>\n",
       "      <td>0.57</td>\n",
       "      <td>2</td>\n",
       "      <td>159</td>\n",
       "      <td>3</td>\n",
       "      <td>1</td>\n",
       "      <td>1</td>\n",
       "      <td>0</td>\n",
       "      <td>technical</td>\n",
       "      <td>low</td>\n",
       "    </tr>\n",
       "    <tr>\n",
       "      <th>14990</th>\n",
       "      <td>0.89</td>\n",
       "      <td>0.88</td>\n",
       "      <td>5</td>\n",
       "      <td>228</td>\n",
       "      <td>5</td>\n",
       "      <td>1</td>\n",
       "      <td>1</td>\n",
       "      <td>0</td>\n",
       "      <td>support</td>\n",
       "      <td>low</td>\n",
       "    </tr>\n",
       "    <tr>\n",
       "      <th>14991</th>\n",
       "      <td>0.09</td>\n",
       "      <td>0.81</td>\n",
       "      <td>6</td>\n",
       "      <td>257</td>\n",
       "      <td>4</td>\n",
       "      <td>0</td>\n",
       "      <td>1</td>\n",
       "      <td>0</td>\n",
       "      <td>support</td>\n",
       "      <td>low</td>\n",
       "    </tr>\n",
       "    <tr>\n",
       "      <th>14992</th>\n",
       "      <td>0.40</td>\n",
       "      <td>0.48</td>\n",
       "      <td>2</td>\n",
       "      <td>155</td>\n",
       "      <td>3</td>\n",
       "      <td>0</td>\n",
       "      <td>1</td>\n",
       "      <td>0</td>\n",
       "      <td>support</td>\n",
       "      <td>low</td>\n",
       "    </tr>\n",
       "    <tr>\n",
       "      <th>14993</th>\n",
       "      <td>0.76</td>\n",
       "      <td>0.83</td>\n",
       "      <td>6</td>\n",
       "      <td>293</td>\n",
       "      <td>6</td>\n",
       "      <td>0</td>\n",
       "      <td>1</td>\n",
       "      <td>0</td>\n",
       "      <td>support</td>\n",
       "      <td>low</td>\n",
       "    </tr>\n",
       "    <tr>\n",
       "      <th>14994</th>\n",
       "      <td>0.40</td>\n",
       "      <td>0.57</td>\n",
       "      <td>2</td>\n",
       "      <td>151</td>\n",
       "      <td>3</td>\n",
       "      <td>0</td>\n",
       "      <td>1</td>\n",
       "      <td>0</td>\n",
       "      <td>support</td>\n",
       "      <td>low</td>\n",
       "    </tr>\n",
       "    <tr>\n",
       "      <th>14995</th>\n",
       "      <td>0.37</td>\n",
       "      <td>0.48</td>\n",
       "      <td>2</td>\n",
       "      <td>160</td>\n",
       "      <td>3</td>\n",
       "      <td>0</td>\n",
       "      <td>1</td>\n",
       "      <td>0</td>\n",
       "      <td>support</td>\n",
       "      <td>low</td>\n",
       "    </tr>\n",
       "    <tr>\n",
       "      <th>14996</th>\n",
       "      <td>0.37</td>\n",
       "      <td>0.53</td>\n",
       "      <td>2</td>\n",
       "      <td>143</td>\n",
       "      <td>3</td>\n",
       "      <td>0</td>\n",
       "      <td>1</td>\n",
       "      <td>0</td>\n",
       "      <td>support</td>\n",
       "      <td>low</td>\n",
       "    </tr>\n",
       "    <tr>\n",
       "      <th>14997</th>\n",
       "      <td>0.11</td>\n",
       "      <td>0.96</td>\n",
       "      <td>6</td>\n",
       "      <td>280</td>\n",
       "      <td>4</td>\n",
       "      <td>0</td>\n",
       "      <td>1</td>\n",
       "      <td>0</td>\n",
       "      <td>support</td>\n",
       "      <td>low</td>\n",
       "    </tr>\n",
       "    <tr>\n",
       "      <th>14998</th>\n",
       "      <td>0.37</td>\n",
       "      <td>0.52</td>\n",
       "      <td>2</td>\n",
       "      <td>158</td>\n",
       "      <td>3</td>\n",
       "      <td>0</td>\n",
       "      <td>1</td>\n",
       "      <td>0</td>\n",
       "      <td>support</td>\n",
       "      <td>low</td>\n",
       "    </tr>\n",
       "  </tbody>\n",
       "</table>\n",
       "<p>14999 rows × 10 columns</p>\n",
       "</div>"
      ],
      "text/plain": [
       "       Satisfaction Level  Last Evaluation Score  \\\n",
       "0                    0.38                   0.53   \n",
       "1                    0.80                   0.86   \n",
       "2                    0.11                   0.88   \n",
       "3                    0.72                   0.87   \n",
       "4                    0.37                   0.52   \n",
       "5                    0.41                   0.50   \n",
       "6                    0.10                   0.77   \n",
       "7                    0.92                   0.85   \n",
       "8                    0.89                   1.00   \n",
       "9                    0.42                   0.53   \n",
       "10                   0.45                   0.54   \n",
       "11                   0.11                   0.81   \n",
       "12                   0.84                   0.92   \n",
       "13                   0.41                   0.55   \n",
       "14                   0.36                   0.56   \n",
       "15                   0.38                   0.54   \n",
       "16                   0.45                   0.47   \n",
       "17                   0.78                   0.99   \n",
       "18                   0.45                   0.51   \n",
       "19                   0.76                   0.89   \n",
       "20                   0.11                   0.83   \n",
       "21                   0.38                   0.55   \n",
       "22                   0.09                   0.95   \n",
       "23                   0.46                   0.57   \n",
       "24                   0.40                   0.53   \n",
       "25                   0.89                   0.92   \n",
       "26                   0.82                   0.87   \n",
       "27                   0.40                   0.49   \n",
       "28                   0.41                   0.46   \n",
       "29                   0.38                   0.50   \n",
       "...                   ...                    ...   \n",
       "14969                0.43                   0.46   \n",
       "14970                0.78                   0.93   \n",
       "14971                0.39                   0.45   \n",
       "14972                0.11                   0.97   \n",
       "14973                0.36                   0.52   \n",
       "14974                0.36                   0.54   \n",
       "14975                0.10                   0.79   \n",
       "14976                0.40                   0.47   \n",
       "14977                0.81                   0.85   \n",
       "14978                0.40                   0.47   \n",
       "14979                0.09                   0.93   \n",
       "14980                0.76                   0.89   \n",
       "14981                0.73                   0.93   \n",
       "14982                0.38                   0.49   \n",
       "14983                0.72                   0.84   \n",
       "14984                0.40                   0.56   \n",
       "14985                0.91                   0.99   \n",
       "14986                0.85                   0.85   \n",
       "14987                0.90                   0.70   \n",
       "14988                0.46                   0.55   \n",
       "14989                0.43                   0.57   \n",
       "14990                0.89                   0.88   \n",
       "14991                0.09                   0.81   \n",
       "14992                0.40                   0.48   \n",
       "14993                0.76                   0.83   \n",
       "14994                0.40                   0.57   \n",
       "14995                0.37                   0.48   \n",
       "14996                0.37                   0.53   \n",
       "14997                0.11                   0.96   \n",
       "14998                0.37                   0.52   \n",
       "\n",
       "       Number of Projects Completed  Average Monthly Hours  \\\n",
       "0                                 2                    157   \n",
       "1                                 5                    262   \n",
       "2                                 7                    272   \n",
       "3                                 5                    223   \n",
       "4                                 2                    159   \n",
       "5                                 2                    153   \n",
       "6                                 6                    247   \n",
       "7                                 5                    259   \n",
       "8                                 5                    224   \n",
       "9                                 2                    142   \n",
       "10                                2                    135   \n",
       "11                                6                    305   \n",
       "12                                4                    234   \n",
       "13                                2                    148   \n",
       "14                                2                    137   \n",
       "15                                2                    143   \n",
       "16                                2                    160   \n",
       "17                                4                    255   \n",
       "18                                2                    160   \n",
       "19                                5                    262   \n",
       "20                                6                    282   \n",
       "21                                2                    147   \n",
       "22                                6                    304   \n",
       "23                                2                    139   \n",
       "24                                2                    158   \n",
       "25                                5                    242   \n",
       "26                                4                    239   \n",
       "27                                2                    135   \n",
       "28                                2                    128   \n",
       "29                                2                    132   \n",
       "...                             ...                    ...   \n",
       "14969                             2                    157   \n",
       "14970                             4                    225   \n",
       "14971                             2                    140   \n",
       "14972                             6                    310   \n",
       "14973                             2                    143   \n",
       "14974                             2                    153   \n",
       "14975                             7                    310   \n",
       "14976                             2                    136   \n",
       "14977                             4                    251   \n",
       "14978                             2                    144   \n",
       "14979                             6                    296   \n",
       "14980                             5                    238   \n",
       "14981                             5                    162   \n",
       "14982                             2                    137   \n",
       "14983                             5                    257   \n",
       "14984                             2                    148   \n",
       "14985                             5                    254   \n",
       "14986                             4                    247   \n",
       "14987                             5                    206   \n",
       "14988                             2                    145   \n",
       "14989                             2                    159   \n",
       "14990                             5                    228   \n",
       "14991                             6                    257   \n",
       "14992                             2                    155   \n",
       "14993                             6                    293   \n",
       "14994                             2                    151   \n",
       "14995                             2                    160   \n",
       "14996                             2                    143   \n",
       "14997                             6                    280   \n",
       "14998                             2                    158   \n",
       "\n",
       "       Years with Company  Work Accident  Left  Promoted in Last 5 Years  \\\n",
       "0                       3              0     1                         0   \n",
       "1                       6              0     1                         0   \n",
       "2                       4              0     1                         0   \n",
       "3                       5              0     1                         0   \n",
       "4                       3              0     1                         0   \n",
       "5                       3              0     1                         0   \n",
       "6                       4              0     1                         0   \n",
       "7                       5              0     1                         0   \n",
       "8                       5              0     1                         0   \n",
       "9                       3              0     1                         0   \n",
       "10                      3              0     1                         0   \n",
       "11                      4              0     1                         0   \n",
       "12                      5              0     1                         0   \n",
       "13                      3              0     1                         0   \n",
       "14                      3              0     1                         0   \n",
       "15                      3              0     1                         0   \n",
       "16                      3              0     1                         0   \n",
       "17                      6              0     1                         0   \n",
       "18                      3              1     1                         1   \n",
       "19                      5              0     1                         0   \n",
       "20                      4              0     1                         0   \n",
       "21                      3              0     1                         0   \n",
       "22                      4              0     1                         0   \n",
       "23                      3              0     1                         0   \n",
       "24                      3              0     1                         0   \n",
       "25                      5              0     1                         0   \n",
       "26                      5              0     1                         0   \n",
       "27                      3              0     1                         0   \n",
       "28                      3              0     1                         0   \n",
       "29                      3              0     1                         0   \n",
       "...                   ...            ...   ...                       ...   \n",
       "14969                   3              0     1                         0   \n",
       "14970                   5              0     1                         0   \n",
       "14971                   3              0     1                         0   \n",
       "14972                   4              0     1                         0   \n",
       "14973                   3              0     1                         0   \n",
       "14974                   3              0     1                         0   \n",
       "14975                   4              0     1                         0   \n",
       "14976                   3              0     1                         0   \n",
       "14977                   6              0     1                         0   \n",
       "14978                   3              0     1                         0   \n",
       "14979                   4              0     1                         0   \n",
       "14980                   5              0     1                         0   \n",
       "14981                   4              0     1                         0   \n",
       "14982                   3              0     1                         0   \n",
       "14983                   5              0     1                         0   \n",
       "14984                   3              0     1                         0   \n",
       "14985                   5              0     1                         0   \n",
       "14986                   6              0     1                         0   \n",
       "14987                   4              0     1                         0   \n",
       "14988                   3              0     1                         0   \n",
       "14989                   3              1     1                         0   \n",
       "14990                   5              1     1                         0   \n",
       "14991                   4              0     1                         0   \n",
       "14992                   3              0     1                         0   \n",
       "14993                   6              0     1                         0   \n",
       "14994                   3              0     1                         0   \n",
       "14995                   3              0     1                         0   \n",
       "14996                   3              0     1                         0   \n",
       "14997                   4              0     1                         0   \n",
       "14998                   3              0     1                         0   \n",
       "\n",
       "       Department  Salary  \n",
       "0           sales     low  \n",
       "1           sales  medium  \n",
       "2           sales  medium  \n",
       "3           sales     low  \n",
       "4           sales     low  \n",
       "5           sales     low  \n",
       "6           sales     low  \n",
       "7           sales     low  \n",
       "8           sales     low  \n",
       "9           sales     low  \n",
       "10          sales     low  \n",
       "11          sales     low  \n",
       "12          sales     low  \n",
       "13          sales     low  \n",
       "14          sales     low  \n",
       "15          sales     low  \n",
       "16          sales     low  \n",
       "17          sales     low  \n",
       "18          sales     low  \n",
       "19          sales     low  \n",
       "20          sales     low  \n",
       "21          sales     low  \n",
       "22          sales     low  \n",
       "23          sales     low  \n",
       "24          sales     low  \n",
       "25          sales     low  \n",
       "26          sales     low  \n",
       "27          sales     low  \n",
       "28     accounting     low  \n",
       "29     accounting     low  \n",
       "...           ...     ...  \n",
       "14969       sales  medium  \n",
       "14970       sales  medium  \n",
       "14971       sales  medium  \n",
       "14972  accounting  medium  \n",
       "14973  accounting  medium  \n",
       "14974  accounting  medium  \n",
       "14975          hr  medium  \n",
       "14976          hr  medium  \n",
       "14977          hr  medium  \n",
       "14978          hr  medium  \n",
       "14979   technical  medium  \n",
       "14980   technical    high  \n",
       "14981   technical     low  \n",
       "14982   technical  medium  \n",
       "14983   technical  medium  \n",
       "14984   technical  medium  \n",
       "14985   technical  medium  \n",
       "14986   technical     low  \n",
       "14987   technical     low  \n",
       "14988   technical     low  \n",
       "14989   technical     low  \n",
       "14990     support     low  \n",
       "14991     support     low  \n",
       "14992     support     low  \n",
       "14993     support     low  \n",
       "14994     support     low  \n",
       "14995     support     low  \n",
       "14996     support     low  \n",
       "14997     support     low  \n",
       "14998     support     low  \n",
       "\n",
       "[14999 rows x 10 columns]"
      ]
     },
     "execution_count": 143,
     "metadata": {},
     "output_type": "execute_result"
    }
   ],
   "source": [
    "hr_stats = pd.read_csv('/Users/cappsjr/Downloads/HR_comma_sep.csv')\n",
    "hr_stats.rename(index=str, columns={'satisfaction_level': 'Satisfaction Level', \n",
    "                                    'last_evaluation': 'Last Evaluation Score', \n",
    "                                    'number_project': 'Number of Projects Completed', \n",
    "                                   'average_montly_hours': 'Average Monthly Hours', \n",
    "                                   'time_spend_company': 'Years with Company', \n",
    "                                   'Work_accident': 'Work Accident', \n",
    "                                   'left': 'Left', \n",
    "                                   'promotion_last_5years': 'Promoted in Last 5 Years',\n",
    "                                   'sales': 'Department',\n",
    "                                   'salary': 'Salary'})"
   ]
  },
  {
   "cell_type": "markdown",
   "metadata": {
    "deletable": true,
    "editable": true
   },
   "source": [
    "# The Dataset"
   ]
  },
  {
   "cell_type": "markdown",
   "metadata": {
    "deletable": true,
    "editable": true
   },
   "source": [
    "Before diving into the meat of this RFC, it is important that the data set that it is based on be examined. The data set was published on Kaggle by Ludovic Benistant under a CC-BY-SA-4.0 license. The dataset is a simulated dataset. Employee information found in the data includes satisfaction level, last evaluation performance, number of projects completed, average monthly hours, amount of time spent at the company, any work accidents, whether the employee left or remains with the company, whether the employee had been promoted in the last five years, department, and salary level (low, medium, or high).  Below you will find visuals that show the number of employees for each categorical variable, including, the amount of time spent (in years) at the company, the number of projects completed, whether or not the employee has experienced a work accident, whether or not the employee has left the company, whether or not the employee has been promoted in the last five years, deparment of the company, and salary level. \n",
    "\n",
    "Weakness in the Data:\n",
    "\n"
   ]
  },
  {
   "cell_type": "code",
   "execution_count": 136,
   "metadata": {
    "collapsed": false,
    "deletable": true,
    "editable": true
   },
   "outputs": [
    {
     "name": "stdout",
     "output_type": "stream",
     "text": [
      "<class 'pandas.core.frame.DataFrame'>\n",
      "RangeIndex: 14999 entries, 0 to 14998\n",
      "Data columns (total 10 columns):\n",
      "satisfaction_level       14999 non-null float64\n",
      "last_evaluation          14999 non-null float64\n",
      "number_project           14999 non-null int64\n",
      "average_montly_hours     14999 non-null int64\n",
      "time_spend_company       14999 non-null int64\n",
      "Work_accident            14999 non-null int64\n",
      "left                     14999 non-null int64\n",
      "promotion_last_5years    14999 non-null int64\n",
      "sales                    14999 non-null object\n",
      "salary                   14999 non-null object\n",
      "dtypes: float64(2), int64(6), object(2)\n",
      "memory usage: 1.1+ MB\n"
     ]
    }
   ],
   "source": [
    "#information about the data\n",
    "hr_stats.info()"
   ]
  },
  {
   "cell_type": "code",
   "execution_count": 139,
   "metadata": {
    "collapsed": false,
    "deletable": true,
    "editable": true
   },
   "outputs": [
    {
     "data": {
      "image/png": "[encoded data removed]",
      "text/plain": [
       "<matplotlib.figure.Figure at 0x1102f8b70>"
      ]
     },
     "metadata": {},
     "output_type": "display_data"
    },
    {
     "data": {
      "image/png": "[encoded data removed]",
      "text/plain": [
       "<matplotlib.figure.Figure at 0x10ed52710>"
      ]
     },
     "metadata": {},
     "output_type": "display_data"
    },
    {
     "data": {
      "image/png": "[encoded data removed]",
      "text/plain": [
       "<matplotlib.figure.Figure at 0x111718a58>"
      ]
     },
     "metadata": {},
     "output_type": "display_data"
    },
    {
     "data": {
      "image/png": "[encoded data removed]",
      "text/plain": [
       "<matplotlib.figure.Figure at 0x111b6f1d0>"
      ]
     },
     "metadata": {},
     "output_type": "display_data"
    }
   ],
   "source": [
    "#Employee counts and visualizations for the categorical variables included in the dataset\n",
    "plt.figure(figsize=(20,5))\n",
    "plt.subplot(1, 2, 1)\n",
    "sns.countplot(x='time_spend_company',data = hr_stats)\n",
    "plt.subplot(1, 2, 2)\n",
    "sns.countplot(x='number_project',data = hr_stats)\n",
    "plt.show()\n",
    "\n",
    "plt.figure(figsize=(20,5))\n",
    "plt.subplot(1, 2, 1)\n",
    "sns.countplot(x='Work_accident',data = hr_stats)\n",
    "plt.subplot(1, 2, 2)\n",
    "sns.countplot(x='left',data = hr_stats)\n",
    "plt.show()\n",
    "\n",
    "plt.figure(figsize=(20,5))\n",
    "plt.subplot(1, 2, 1)\n",
    "sns.countplot(x='promotion_last_5years',data = hr_stats)\n",
    "plt.subplot(1, 2, 2)\n",
    "sns.countplot(x='sales',data = hr_stats)\n",
    "plt.show()\n",
    "\n",
    "plt.figure(figsize=(16,4))\n",
    "plt.subplot(1, 2, 1)\n",
    "sns.countplot(x='salary',data = hr_stats)\n",
    "plt.show()"
   ]
  },
  {
   "cell_type": "markdown",
   "metadata": {
    "deletable": true,
    "editable": true
   },
   "source": [
    "# The Problem:  Employee Churn"
   ]
  },
  {
   "cell_type": "markdown",
   "metadata": {
    "deletable": true,
    "editable": true
   },
   "source": [
    "The problem that will be addressed with this experiment is employee churn.  Employee churn is the overall turnover in a company’s staff during a given period of time as old employees leave and new employees are hired.  There will be inevitable employee turnover, but a high churn rate is costly to a company because recruitment, hiring, and training all comes with a price, and it will also take time for a new employee to be as productive as an existing employee.  Furthermore, an unusually high employee churn rate may indicate other problems that exist within the organization, such as unreasonable expectations, uncompetitive compensation, low morale, poor management, or ineffective human resources management.  The data examined shows an employment churn rate of 23.8%, nearly a quarter of the employees represented in the dataset.  The employee churn rate is usually measured by calculating the percentage of employees who leave the company during a given period of time.  However, the information in the dataset does not define any period of time, so in this case there there is an assumption that the dataset represents a given period of time, and the churn rate will be measured by calculating the percentage of employees who have left within that time period.\n",
    "\n",
    "Before attempting to develop a solution to the problem of employee churn, it is helpful to examine and compare the characteristics of the employees who left the company and the employees who stayed with the company.  When one looks at the average employee who left compared to the average employee who did not stay (using the mean) several important data points pop out, the most relevant for our purpose being that the employee has a much lower satisfaction level (0.44 compared to 0.67) and a much lower rate of promotion in the last five years (0.005 compare to 0.026).  However, there is more than that to the story because the averages do not address salary level.  %60.82 of employees who left had a low salary compared to %45.12 of employees who stayed, %36.88 of employees who left had a medium salary compared to %44.88 of employees who stayed, and %2.30 of employees who left had a high salary compared to %10.11 of employees who stayed.        "
   ]
  },
  {
   "cell_type": "code",
   "execution_count": 5,
   "metadata": {
    "collapsed": false,
    "deletable": true,
    "editable": true
   },
   "outputs": [
    {
     "name": "stdout",
     "output_type": "stream",
     "text": [
      "Number of Employees That Left: 3571\n",
      "Total Number of Employees in the Dataset: 14999\n",
      "Proportion of Employees Who Left: % 23.80825388359224\n"
     ]
    }
   ],
   "source": [
    "#the total number of employees who left and the proportion of employees who left\n",
    "num_left = len(hr_stats[hr_stats['left']==1])\n",
    "num_total = len(hr_stats)\n",
    "print(\"Number of Employees That Left:\", num_left)\n",
    "print(\"Total Number of Employees in the Dataset:\", num_total)\n",
    "print(\"Proportion of Employees Who Left:\", '%',(num_left/num_total) * 100,)"
   ]
  },
  {
   "cell_type": "code",
   "execution_count": 25,
   "metadata": {
    "collapsed": false,
    "deletable": true,
    "editable": true
   },
   "outputs": [
    {
     "data": {
      "image/png": "[encoded data removed]",
      "text/plain": [
       "<matplotlib.figure.Figure at 0x11035c828>"
      ]
     },
     "metadata": {},
     "output_type": "display_data"
    }
   ],
   "source": [
    "#Visual comparing the number of employees who have left to the number who have not left\n",
    "#Visual showing the number of employees who have stayed with the company a set amount of time\n",
    "#(2 years, 3 year,...10 years)\n",
    "plt.figure(figsize=(20, 5))\n",
    "plt.subplot(1, 2, 1)\n",
    "sns.countplot(x='left',data = hr_stats)\n",
    "plt.subplot(1, 2, 2)\n",
    "sns.countplot(x='time_spend_company', data=hr_stats)\n",
    "plt.show()"
   ]
  },
  {
   "cell_type": "code",
   "execution_count": 57,
   "metadata": {
    "collapsed": false
   },
   "outputs": [
    {
     "name": "stdout",
     "output_type": "stream",
     "text": [
      "# of Employees Who Left After 2 Years: 53\n",
      "# of Employees Who Left After 3 Years: 1586\n",
      "# of Employees Who Left After 4 Years: 890\n",
      "# of Employees Who Left After 5 Years: 833\n",
      "# of Employees Who Left After 6 Years: 209\n",
      "# of Employees Who Left After 7 Years: 0\n",
      "# of Employees Who Left After 8 Years: 0\n",
      "# of Employees Who Left After 9 Years: 0\n",
      "# of Employees Who Left After 10 Years: 0\n"
     ]
    }
   ],
   "source": [
    "#the number of employees who left after spending 2 years, 3 years...10 years with the company\n",
    "two_years_left = len(hr_stats[(hr_stats['time_spend_company']==2) & (hr_stats['left']==1)])\n",
    "three_years_left = len(hr_stats[(hr_stats['time_spend_company']==3) & (hr_stats['left']==1)])\n",
    "four_years_left = len(hr_stats[(hr_stats['time_spend_company']==4) & (hr_stats['left']==1)])\n",
    "five_years_left = len(hr_stats[(hr_stats['time_spend_company']==5) & (hr_stats['left']==1)])\n",
    "six_years_left = len(hr_stats[(hr_stats['time_spend_company']==6) & (hr_stats['left']==1)])\n",
    "seven_years_left = len(hr_stats[(hr_stats['time_spend_company']==7) & (hr_stats['left']==1)])\n",
    "eight_years_left = len(hr_stats[(hr_stats['time_spend_company']==8) & (hr_stats['left']==1)])\n",
    "nine_years_left = len(hr_stats[(hr_stats['time_spend_company']==9) & (hr_stats['left']==1)])\n",
    "ten_years_left = len(hr_stats[(hr_stats['time_spend_company']==10) & (hr_stats['left']==1)])\n",
    "print('# of Employees Who Left After 2 Years:', two_years_left)\n",
    "print('# of Employees Who Left After 3 Years:', three_years_left)\n",
    "print('# of Employees Who Left After 4 Years:', four_years_left)\n",
    "print('# of Employees Who Left After 5 Years:', five_years_left)\n",
    "print('# of Employees Who Left After 6 Years:', six_years_left)\n",
    "print('# of Employees Who Left After 7 Years:', seven_years_left)\n",
    "print('# of Employees Who Left After 8 Years:', eight_years_left)\n",
    "print('# of Employees Who Left After 9 Years:', nine_years_left)\n",
    "print('# of Employees Who Left After 10 Years:', ten_years_left)"
   ]
  },
  {
   "cell_type": "code",
   "execution_count": 92,
   "metadata": {
    "collapsed": false
   },
   "outputs": [
    {
     "name": "stdout",
     "output_type": "stream",
     "text": [
      "Averages (Mean): Left the Company\n",
      "satisfaction_level         0.440098\n",
      "last_evaluation            0.718113\n",
      "number_project             3.855503\n",
      "average_montly_hours     207.419210\n",
      "time_spend_company         3.876505\n",
      "Work_accident              0.047326\n",
      "left                       1.000000\n",
      "promotion_last_5years      0.005321\n",
      "dtype: float64\n",
      "Averages (Mean): Did NOT Leave the Company\n",
      "satisfaction_level         0.666810\n",
      "last_evaluation            0.715473\n",
      "number_project             3.786664\n",
      "average_montly_hours     199.060203\n",
      "time_spend_company         3.380032\n",
      "Work_accident              0.175009\n",
      "left                       0.000000\n",
      "promotion_last_5years      0.026251\n",
      "dtype: float64\n"
     ]
    }
   ],
   "source": [
    "#Need to examine why employees left and the characteristics of the employees who left and the employees who \n",
    "#did not leave.\n",
    "\n",
    "#Mean satisfaction level for those employees who left the company\n",
    "sat_level_left = hr_stats[(hr_stats['left']==1) & (hr_stats['satisfaction_level'])]\n",
    "print('Averages (Mean): Left the Company')\n",
    "print(sat_level_left.mean())\n",
    "\n",
    "#Mean satisfaction level for those employees who did not leave the company\n",
    "sat_level_stay = hr_stats[(hr_stats['left']==0) & (hr_stats['satisfaction_level'])]\n",
    "print('Averages (Mean): Did NOT Leave the Company')\n",
    "print(sat_level_stay.mean())"
   ]
  },
  {
   "cell_type": "code",
   "execution_count": 81,
   "metadata": {
    "collapsed": false
   },
   "outputs": [
    {
     "data": {
      "image/png": "[encoded data removed]",
      "text/plain": [
       "<matplotlib.figure.Figure at 0x10f05bb70>"
      ]
     },
     "metadata": {},
     "output_type": "display_data"
    },
    {
     "data": {
      "image/png": "[encoded data removed]",
      "text/plain": [
       "<matplotlib.figure.Figure at 0x10eea9400>"
      ]
     },
     "metadata": {},
     "output_type": "display_data"
    }
   ],
   "source": [
    "#Looking at the relationship between satisfation level, salary, and whether or not the employee left\n",
    "plt.figure(figsize=(20,5))\n",
    "plt.subplot(1, 2, 1)\n",
    "sns.boxplot(x='left', y='satisfaction_level', data=hr_stats)\n",
    "plt.subplot(1, 2, 2)\n",
    "sns.countplot(x='salary',data = hr_stats, hue='left')\n",
    "plt.show()\n",
    "\n",
    "#Looking at the relationship between the amount of time spent at the company, whether or not the employee\n",
    "#received a promotion in the last five years, and whether or not the employee left\n",
    "plt.figure(figsize=(20,5))\n",
    "plt.subplot(1, 2, 1)\n",
    "sns.countplot(x='time_spend_company',data = hr_stats, hue='left')\n",
    "plt.subplot(1, 2, 2)\n",
    "sns.countplot(x='promotion_last_5years',data = hr_stats, hue='left')\n",
    "plt.show()"
   ]
  },
  {
   "cell_type": "code",
   "execution_count": 106,
   "metadata": {
    "collapsed": false
   },
   "outputs": [
    {
     "name": "stdout",
     "output_type": "stream",
     "text": [
      "# of Employees Who Left with Low Salary: 2172      Proportion: % 60.82329879585551\n",
      "# of Employees Who Left with Medium Salary: 1317   Proportion: % 36.88042565107813\n",
      "# of Employees Who Left with High Salary: 82       Proportion: % 2.2962755530663683\n"
     ]
    }
   ],
   "source": [
    "#Number of employees who left at each salary level\n",
    "print('# of Employees Who Left with Low Salary:', len(hr_stats[(hr_stats['left']==1) & (hr_stats['salary']=='low')]), \n",
    "      '     Proportion: %', 2172/3571*100)\n",
    "print('# of Employees Who Left with Medium Salary:', len(hr_stats[(hr_stats['left']==1) & (hr_stats['salary']=='medium')]), \n",
    "      '  Proportion: %', 1317/3571*100)\n",
    "print('# of Employees Who Left with High Salary:', len(hr_stats[(hr_stats['left']==1) & (hr_stats['salary']=='high')]), \n",
    "      '      Proportion: %', 82/3571*100)"
   ]
  },
  {
   "cell_type": "code",
   "execution_count": 112,
   "metadata": {
    "collapsed": false
   },
   "outputs": [
    {
     "name": "stdout",
     "output_type": "stream",
     "text": [
      "# of Employees Who Stayed with Low Salary: 5144      Proportion: % 45.01225061253062\n",
      "# of Employees Who Stayed with Medium Salary: 5129   Proportion: % 44.88099404970248\n",
      "# of Employees Who Stayed with High Salary: 1155     Proportion: % 10.106755337766888\n"
     ]
    }
   ],
   "source": [
    "#Number of employees who stayed at each salary level\n",
    "print('# of Employees Who Stayed with Low Salary:', len(hr_stats[(hr_stats['left']==0) & (hr_stats['salary']=='low')]), \n",
    "      '     Proportion: %', 5144/11428*100)\n",
    "print('# of Employees Who Stayed with Medium Salary:', len(hr_stats[(hr_stats['left']==0) & (hr_stats['salary']=='medium')]), \n",
    "      '  Proportion: %', 5129/11428*100)\n",
    "print('# of Employees Who Stayed with High Salary:', len(hr_stats[(hr_stats['left']==0) & (hr_stats['salary']=='high')]), \n",
    "      '    Proportion: %', 1155/11428*100)"
   ]
  },
  {
   "cell_type": "code",
   "execution_count": 80,
   "metadata": {
    "collapsed": false,
    "deletable": true,
    "editable": true
   },
   "outputs": [
    {
     "data": {
      "image/png": "[encoded data removed]",
      "text/plain": [
       "<matplotlib.figure.Figure at 0x10eec14a8>"
      ]
     },
     "metadata": {},
     "output_type": "display_data"
    },
    {
     "data": {
      "image/png": "[encoded data removed]",
      "text/plain": [
       "<matplotlib.figure.Figure at 0x111c117f0>"
      ]
     },
     "metadata": {},
     "output_type": "display_data"
    }
   ],
   "source": [
    "#Examining the categorical variables years spent at the company and promotions within the last 5 years \n",
    "#and comparing the number of employees who left and did not leave for both variables\n",
    "plt.figure(figsize=(20,5))\n",
    "plt.subplot(1, 2, 1)\n",
    "sns.countplot(x='time_spend_company',data = hr_stats, hue='left')\n",
    "plt.subplot(1, 2, 2)\n",
    "sns.countplot(x='promotion_last_5years',data = hr_stats, hue='left')\n",
    "plt.show()\n",
    "\n",
    "plt.figure(figsize=(20,5))\n",
    "plt.subplot(1, 2, 1)\n",
    "sns.boxplot(x='promotion_last_5years', y='time_spend_company', data=hr_stats)\n",
    "plt.subplot(1, 2, 2)\n",
    "sns.boxplot(x='promotion_last_5years', y='satisfaction_level', data=hr_stats)\n",
    "plt.show()"
   ]
  },
  {
   "cell_type": "markdown",
   "metadata": {
    "deletable": true,
    "editable": true
   },
   "source": [
    "# The Potential Solution:  Promotion"
   ]
  },
  {
   "cell_type": "markdown",
   "metadata": {
    "deletable": true,
    "editable": true
   },
   "source": [
    "When examining the differences between the employees that left the company and the employees that did not leave the company, there is one observation that is very relevant to developing a solution to employee turnover: the satisfaction level of those who leave is significantly lower than those who do not leave the company.  This might seem logical, but the key to developing a solution to the problem is understanding why those employees who leave are less satisfied.  In this regard there seem to be two potential answers: 1) they are not satisfied because of their salary level; or 2) they are not satisfied because they have not received a promotion in the last five years.  For the purposes of this RFC, we will be examining the affect of promotions on employee churn, and our hypothesis is that more frequent promotion of employees is more likely to reduce employee turnover by showing a level of trust, loyalty, and commitment than the current promotion and raise policy.\n",
    "\n",
    "Promoting employees before a five-year period has passed will decrease employee churn by showing a level of loyalty and commitment from the company to the employee.  This hypothesis was developed because of the following data presented below on employee promotion, the amount of time promoted employees stayed with the company, and the satisfaction level of promoted employees.  A total of 3,571 employees from the dataset left the company, and of that number, 3,552 (or %99.47 of the employees who left) had not been promoted in the last five years.  That means that only 19 (or %0.53 of the employees who left) employees who were promoted in the last five years chose to leave the company.  Furthermore, the satisfaction level of those who hvae been promoted is higher than those who have not been promoted, 0.66 compared to 0.61.  This is significant because the average satisfaction level of those who stayed with the company is 0.66.   Finally, the data shows that employees who are promoted tend to stay longer than employees who are not promoted.  Therefore, I believe that promoting employees will encourage them to stay with the company longer and decrease employee churn.  "
   ]
  },
  {
   "cell_type": "code",
   "execution_count": 144,
   "metadata": {
    "collapsed": false
   },
   "outputs": [
    {
     "data": {
      "image/png": "[encoded data removed]",
      "text/plain": [
       "<matplotlib.figure.Figure at 0x110c0d668>"
      ]
     },
     "metadata": {},
     "output_type": "display_data"
    }
   ],
   "source": [
    "#Examining the relationship between satisfaction level and whether or not the employee left\n",
    "sns.boxplot(x='left', y='satisfaction_level', data=hr_stats)\n",
    "plt.show()"
   ]
  },
  {
   "cell_type": "code",
   "execution_count": 121,
   "metadata": {
    "collapsed": false
   },
   "outputs": [
    {
     "name": "stdout",
     "output_type": "stream",
     "text": [
      "Averages (Mean): Promoted in the Last 5 Years\n",
      "satisfaction_level         0.656019\n",
      "last_evaluation            0.706019\n",
      "number_project             3.752351\n",
      "average_montly_hours     199.849530\n",
      "time_spend_company         4.166144\n",
      "Work_accident              0.238245\n",
      "left                       0.059561\n",
      "promotion_last_5years      1.000000\n",
      "dtype: float64\n",
      "Averages (Mean): NOT Promoted in the Last 5 Years\n",
      "satisfaction_level         0.611895\n",
      "last_evaluation            0.716321\n",
      "number_project             3.804155\n",
      "average_montly_hours     201.076431\n",
      "time_spend_company         3.483719\n",
      "Work_accident              0.142575\n",
      "left                       0.241962\n",
      "promotion_last_5years      0.000000\n",
      "dtype: float64\n"
     ]
    }
   ],
   "source": [
    "#Mean satisfaction level for employees promoted in the last five years\n",
    "prom_sat_level = hr_stats[(hr_stats['promotion_last_5years']==1) & (hr_stats['satisfaction_level'])]\n",
    "print('Averages (Mean): Promoted in the Last 5 Years')\n",
    "print(prom_sat_level.mean())\n",
    "\n",
    "#Mean satisfaction level for employees not promoted in the last five years\n",
    "nonprom_sat_level = hr_stats[(hr_stats['promotion_last_5years']==0) & (hr_stats['satisfaction_level'])]\n",
    "print('Averages (Mean): NOT Promoted in the Last 5 Years')\n",
    "print(nonprom_sat_level.mean())"
   ]
  },
  {
   "cell_type": "code",
   "execution_count": 7,
   "metadata": {
    "collapsed": false,
    "deletable": true,
    "editable": true
   },
   "outputs": [
    {
     "name": "stdout",
     "output_type": "stream",
     "text": [
      "Number Promoted: 319\n",
      "Number Not Promoted: 14680\n"
     ]
    }
   ],
   "source": [
    "#the number of employees promoted and not promoted in the last 5 years\n",
    "num_unpromoted = len(hr_stats[hr_stats['promotion_last_5years']==0])\n",
    "num_promoted = len(hr_stats[hr_stats['promotion_last_5years']==1])\n",
    "print(\"Number Promoted:\", num_promoted)\n",
    "print(\"Number Not Promoted:\", num_unpromoted)"
   ]
  },
  {
   "cell_type": "code",
   "execution_count": 8,
   "metadata": {
    "collapsed": false,
    "deletable": true,
    "editable": true
   },
   "outputs": [
    {
     "name": "stdout",
     "output_type": "stream",
     "text": [
      "Number of Employees Who Weren't Promoted and Left: 3552\n",
      "Proportion of Employees Who Left That Were Not Promoted in the Last 5 Years: % 99.46793615233828\n",
      "Number of Employees Who Were Promoted and Left: 19\n",
      "Proportion of Employees Who Left That Were Promoted in the Last 5 Years: % 0.5320638476617194\n",
      "Number of Employees Who Left: 3571\n"
     ]
    }
   ],
   "source": [
    "#the  proportion and number of employees who weren't promoted and left and who were promoted and left\n",
    "promoted_left = len(hr_stats[(hr_stats['promotion_last_5years']==1) & (hr_stats['left']==1)])\n",
    "unpromoted_left = len(hr_stats[(hr_stats['promotion_last_5years']==0) & (hr_stats['left']==1)])\n",
    "print(\"Number of Employees Who Weren't Promoted and Left:\", unpromoted_left)\n",
    "print(\"Proportion of Employees Who Left That Were Not Promoted in the Last 5 Years:\", '%', (unpromoted_left/num_left)*100)\n",
    "print(\"Number of Employees Who Were Promoted and Left:\", promoted_left)\n",
    "print(\"Proportion of Employees Who Left That Were Promoted in the Last 5 Years:\", '%', (promoted_left/num_left)*100)\n",
    "print(\"Number of Employees Who Left:\", num_left)"
   ]
  },
  {
   "cell_type": "code",
   "execution_count": 141,
   "metadata": {
    "collapsed": false
   },
   "outputs": [
    {
     "data": {
      "image/png": "[encoded data removed]",
      "text/plain": [
       "<matplotlib.figure.Figure at 0x111b72f60>"
      ]
     },
     "metadata": {},
     "output_type": "display_data"
    }
   ],
   "source": [
    "#Examining the relationship between receiving a promotion, the time spent at the company, and satisfaction level\n",
    "plt.figure(figsize=(20,5))\n",
    "plt.subplot(1, 2, 1)\n",
    "sns.boxplot(x='promotion_last_5years', y='time_spend_company', data=hr_stats)\n",
    "plt.subplot(1, 2, 2)\n",
    "sns.boxplot(x='promotion_last_5years', y='satisfaction_level', data=hr_stats)\n",
    "plt.show()"
   ]
  },
  {
   "cell_type": "code",
   "execution_count": 69,
   "metadata": {
    "collapsed": false
   },
   "outputs": [
    {
     "name": "stdout",
     "output_type": "stream",
     "text": [
      "Average Time Spent at the Company: 3.49823321555 years\n",
      "Avg. Time Spent at Company for Promoted Employees: 3.95187165775 years\n",
      "Avg. Time Spent at Company for Employees Not Promoted: 3.44461285841 years\n"
     ]
    }
   ],
   "source": [
    "#average amount of time employees spent at the company\n",
    "#average amount of time employees who received a promotion in the last five years spent at the company\n",
    "#average amount of time employees who did not receive a promotion in the last 5 years spent at the company\n",
    "print('Average Time Spent at the Company:', hr_stats['time_spend_company'].mean(), 'years')\n",
    "\n",
    "avg_time_prom = hr_stats[(hr_stats['time_spend_company']) & (hr_stats['promotion_last_5years']==1)]\n",
    "print('Avg. Time Spent at Company for Promoted Employees:', avg_time_prom['time_spend_company'].mean(), 'years')\n",
    "\n",
    "avg_time_nonprom = hr_stats[(hr_stats['time_spend_company']) & (hr_stats['promotion_last_5years']==0)]\n",
    "print('Avg. Time Spent at Company for Employees Not Promoted:', avg_time_nonprom['time_spend_company'].mean(), 'years')"
   ]
  },
  {
   "cell_type": "markdown",
   "metadata": {
    "deletable": true,
    "editable": true
   },
   "source": [
    "# The Method of Testing the Solution:"
   ]
  },
  {
   "cell_type": "markdown",
   "metadata": {
    "collapsed": false,
    "deletable": true,
    "editable": true
   },
   "source": [
    "The Experiment:\n",
    "\n",
    "To test this hypothesis, we first need to get a sample to test.  This sample should include 1000 randomly selected employees from the population of employees that work for the company.  After the sample has been selected, it should be divided into two groups: the control group and the three-year promotion track group (\"3-year group\").  The new employees in the sample should be randomly assigned to these two groups.  The company will have a policy to promote those employees worthy of promotion in the 3-year group after three years.  The control group will maintain the current promotion policy.  \n",
    "*Explain why you chose a sample size = 1000\n",
    "**Explain why you chose a 3-year group (as opposed to 1, 2, 4, etc. year groups)\n",
    "\n",
    "Key Metrics:\n",
    "\n",
    "The key metric to determine whether or not the hypothesis is correct is employee churn rate for the control group and the 3-year group.  If the hypothesis is correct the employee churn rate for the 3-year group should decrease while the employee churn rate for the control group should remain the same.  This would occur because the number of employees who leave the 3-year group will have decreased compared to the control group.  \n",
    "*What sort of t-test/p-value should we be looking for? \n",
    "\n",
    "Other Metrics:\n",
    "\n",
    "Another interesting metric that will be interesting to note is the average number of years the employees in each group stay with the company.  If the hypothesis is correct, the average number of years should increase for the 3-year group while the average number of years for the control should remain the same.  The salary level of the employees in each group should be interesting to measure as well.  If the hypothesis is correct, one could expect the average salary of the 3-year group to be higher than control group because the three-year group will have stayed longer and had more promotions.  The number of projects completed by each employee will also be revealing.  Like salary level, if the hypothesis is correct, one could expect the number of projects completed by each employee to be higher in the 3-year group compared to the control group because the 3-year group will  have stayed with the company a longer period of time giving them more time to complete more projects.   \n",
    "\n",
    "Potential Further Research:"
   ]
  },
  {
   "cell_type": "markdown",
   "metadata": {},
   "source": [
    "# **Not Sure If/How I Should Use"
   ]
  },
  {
   "cell_type": "code",
   "execution_count": 93,
   "metadata": {
    "collapsed": false
   },
   "outputs": [
    {
     "data": {
      "image/png": "[encoded data removed]",
      "text/plain": [
       "<matplotlib.figure.Figure at 0x1119c9ef0>"
      ]
     },
     "metadata": {},
     "output_type": "display_data"
    }
   ],
   "source": [
    "sns.boxplot(x='left', y='time_spend_company', data=hr_stats)\n",
    "plt.show()"
   ]
  },
  {
   "cell_type": "code",
   "execution_count": 113,
   "metadata": {
    "collapsed": false
   },
   "outputs": [
    {
     "data": {
      "image/png": "[encoded data removed]",
      "text/plain": [
       "<matplotlib.figure.Figure at 0x111ebae48>"
      ]
     },
     "metadata": {},
     "output_type": "display_data"
    }
   ],
   "source": [
    "sns.boxplot(x='salary', y='satisfaction_level', data=hr_stats)\n",
    "plt.show()"
   ]
  },
  {
   "cell_type": "code",
   "execution_count": 79,
   "metadata": {
    "collapsed": false
   },
   "outputs": [
    {
     "data": {
      "image/png": "[encoded data removed]",
      "text/plain": [
       "<matplotlib.figure.Figure at 0x10fa27cf8>"
      ]
     },
     "metadata": {},
     "output_type": "display_data"
    },
    {
     "data": {
      "image/png": "[encoded data removed]",
      "text/plain": [
       "<matplotlib.figure.Figure at 0x111de32e8>"
      ]
     },
     "metadata": {},
     "output_type": "display_data"
    }
   ],
   "source": [
    "#Examining the relationship between salary, satifaction level, whether or not the employee left, and\n",
    "#whether or not the employee received a promotion in the last five years\n",
    "sns.countplot(x='salary',data = hr_stats, hue='left')\n",
    "plt.show()\n",
    "\n",
    "plt.figure(figsize=(20,5))\n",
    "plt.subplot(1, 2, 1)\n",
    "sns.violinplot(x='salary', y='satisfaction_level', data=hr_stats, hue='left', split=True)\n",
    "plt.subplot(1, 2, 2)\n",
    "sns.violinplot(x='salary', y='satisfaction_level', data=hr_stats, hue='promotion_last_5years', split=True)\n",
    "plt.show()"
   ]
  },
  {
   "cell_type": "code",
   "execution_count": 77,
   "metadata": {
    "collapsed": false
   },
   "outputs": [
    {
     "data": {
      "image/png": "[encoded data removed]",
      "text/plain": [
       "<matplotlib.figure.Figure at 0x111e73828>"
      ]
     },
     "metadata": {},
     "output_type": "display_data"
    },
    {
     "data": {
      "image/png": "[encoded data removed]",
      "text/plain": [
       "<matplotlib.figure.Figure at 0x10fa277f0>"
      ]
     },
     "metadata": {},
     "output_type": "display_data"
    }
   ],
   "source": [
    "#Examining the relationship between satisfaction level, whether or not the employee left, and \n",
    "#whether or not the employee received a promotion in the last five years\n",
    "sns.boxplot(x='left', y='satisfaction_level', data=hr_stats)\n",
    "plt.show()\n",
    "\n",
    "plt.figure(figsize=(20,5))\n",
    "plt.subplot(1, 2, 1)\n",
    "sns.violinplot(x='promotion_last_5years', y='satisfaction_level', data=hr_stats, hue='left')\n",
    "plt.subplot(1, 2, 2)\n",
    "sns.violinplot(x='left', y='satisfaction_level', data=hr_stats, hue='promotion_last_5years')\n",
    "plt.show()"
   ]
  },
  {
   "cell_type": "code",
   "execution_count": 131,
   "metadata": {
    "collapsed": false
   },
   "outputs": [
    {
     "data": {
      "text/plain": [
       "14999"
      ]
     },
     "execution_count": 131,
     "metadata": {},
     "output_type": "execute_result"
    }
   ],
   "source": [
    "#why can I not run this?  I want to know how many people had a low salary, medium salary, and high salary\n",
    "len(hr_stats['salary']=='low')"
   ]
  },
  {
   "cell_type": "code",
   "execution_count": 123,
   "metadata": {
    "collapsed": false
   },
   "outputs": [
    {
     "name": "stdout",
     "output_type": "stream",
     "text": [
      "Averages (Mean): Employees with Low Salary Level\n",
      "satisfaction_level         0.600753\n",
      "last_evaluation            0.717017\n",
      "number_project             3.799891\n",
      "average_montly_hours     200.996583\n",
      "time_spend_company         3.438218\n",
      "Work_accident              0.142154\n",
      "left                       0.296884\n",
      "promotion_last_5years      0.009021\n",
      "dtype: float64\n",
      "Averages (Mean): Employees with Medium Salary Level\n",
      "satisfaction_level         0.621817\n",
      "last_evaluation            0.717322\n",
      "number_project             3.813528\n",
      "average_montly_hours     201.338349\n",
      "time_spend_company         3.529010\n",
      "Work_accident              0.145361\n",
      "left                       0.204313\n",
      "promotion_last_5years      0.028079\n",
      "dtype: float64\n",
      "Averages (Mean): Employees with High Salary Level\n",
      "satisfaction_level         0.637470\n",
      "last_evaluation            0.704325\n",
      "number_project             3.767179\n",
      "average_montly_hours     199.867421\n",
      "time_spend_company         3.692805\n",
      "Work_accident              0.155214\n",
      "left                       0.066289\n",
      "promotion_last_5years      0.058205\n",
      "dtype: float64\n"
     ]
    }
   ],
   "source": [
    "#Examining the relationship between salary level and satisfaction level\n",
    "\n",
    "#Mean satisfaction level for employees with a low salary level\n",
    "low_sat_level = hr_stats[(hr_stats['salary']=='low') & (hr_stats['satisfaction_level'])]\n",
    "print('Averages (Mean): Employees with Low Salary Level')\n",
    "print(low_sat_level.mean())\n",
    "\n",
    "#Mean satisfaction level for employees with a medium salary level\n",
    "med_sat_level = hr_stats[(hr_stats['salary']=='medium') & (hr_stats['satisfaction_level'])]\n",
    "print('Averages (Mean): Employees with Medium Salary Level')\n",
    "print(med_sat_level.mean())\n",
    "\n",
    "#Mean satisfaction level for employees with a high salary level\n",
    "high_sat_level = hr_stats[(hr_stats['salary']=='high') & (hr_stats['satisfaction_level'])]\n",
    "print('Averages (Mean): Employees with High Salary Level')\n",
    "print(high_sat_level.mean())"
   ]
  },
  {
   "cell_type": "markdown",
   "metadata": {},
   "source": [
    "The data also shows that the number of employees who stay with the company for four years, five years, on up to ten years is much smaller than the number of employees who stay for three years or two years (see the graph above).  Along the same vein, the data shows that the number of employees who leave the company after three years is much greater than after four years or five years.  1,586 employees left the company after three years compared to 890 and 833 employees leaving after four years and five years, respectively.  Only 290 employees left after 6 years, and not a single employee left after eight year, nine years, or ten years.  This indicates that the longer you can keep the employee the more likely the employee is to stay.  And finally, the data shows that employees who are promoted tend to stay longer than employees who are not promoted.  Therefore, I believe that promoting employees will encourage them to stay with the company longer and decrease employee churn.  "
   ]
  },
  {
   "cell_type": "code",
   "execution_count": null,
   "metadata": {
    "collapsed": true
   },
   "outputs": [],
   "source": []
  }
 ],
 "metadata": {
  "kernelspec": {
   "display_name": "Python 3",
   "language": "python",
   "name": "python3"
  },
  "language_info": {
   "codemirror_mode": {
    "name": "ipython",
    "version": 3
   },
   "file_extension": ".py",
   "mimetype": "text/x-python",
   "name": "python",
   "nbconvert_exporter": "python",
   "pygments_lexer": "ipython3",
   "version": "3.6.1"
  }
 },
 "nbformat": 4,
 "nbformat_minor": 2
}
